{
 "cells": [
  {
   "cell_type": "code",
   "execution_count": 2,
   "metadata": {},
   "outputs": [],
   "source": [
    "class Vec3 {\n",
    "    double x, y, z;\n",
    "\n",
    "    Vec3(double x, double y, double z) {\n",
    "        this.x = x;\n",
    "        this.y = y;\n",
    "        this.z = z;\n",
    "    }\n",
    "\n",
    "    Vec3 add(Vec3 v) {\n",
    "        x += v.x;\n",
    "        y += v.y;\n",
    "        z += v.z;\n",
    "        return this;\n",
    "    }\n",
    "\n",
    "    @Override\n",
    "    public String toString() {\n",
    "        return \"(\" + x + \" \" + y + \" \" + z + \")\";\n",
    "    }\n",
    "}"
   ]
  },
  {
   "cell_type": "code",
   "execution_count": 8,
   "metadata": {},
   "outputs": [],
   "source": [
    "Vec3 a = new Vec3(0, 1, 0);\n",
    "Vec3 b = new Vec3(1, 0, 0);\n",
    "Vec3 c = a.add(b);\n",
    "Vec3 d = c.add(a);"
   ]
  }
 ],
 "metadata": {
  "kernelspec": {
   "display_name": "Java",
   "language": "java",
   "name": "java"
  },
  "language_info": {
   "codemirror_mode": "java",
   "file_extension": ".java",
   "mimetype": "text/x-java-source",
   "name": "Java",
   "pygments_lexer": "java",
   "version": "11.0.2+9-LTS"
  }
 },
 "nbformat": 4,
 "nbformat_minor": 2
}
