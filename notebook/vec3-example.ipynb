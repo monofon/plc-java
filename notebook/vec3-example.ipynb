{
 "cells": [
  {
   "cell_type": "code",
   "execution_count": 1,
   "metadata": {},
   "outputs": [],
   "source": [
    "class Vec3 {\n",
    "    double x, y, z;\n",
    "\n",
    "    Vec3(double x, double y, double z) {\n",
    "        this.x = x;\n",
    "        this.y = y;\n",
    "        this.z = z;\n",
    "    }\n",
    "\n",
    "    Vec3 add(Vec3 v) {\n",
    "        x += v.x;\n",
    "        y += v.y;\n",
    "        z += v.z;\n",
    "        return this;\n",
    "    }\n",
    "\n",
    "    @Override\n",
    "    public String toString() {\n",
    "        return \"(\" + x + \" \" + y + \" \" + z + \")\";\n",
    "    }\n",
    "}"
   ]
  },
  {
   "cell_type": "code",
   "execution_count": 2,
   "metadata": {},
   "outputs": [],
   "source": [
    "Vec3 a = new Vec3(0, 1, 0);\n",
    "Vec3 b = new Vec3(1, 0, 0);\n"
   ]
  },
  {
   "cell_type": "code",
   "execution_count": 15,
   "metadata": {},
   "outputs": [
    {
     "name": "stdout",
     "output_type": "stream",
     "text": [
      "a: (2.0 2.0 0.0)\n",
      "b: (1.0 0.0 0.0)\n"
     ]
    }
   ],
   "source": [
    "System.out.println(\"a: \" + a);\n",
    "System.out.println(\"b: \" + b);"
   ]
  },
  {
   "cell_type": "code",
   "execution_count": 9,
   "metadata": {},
   "outputs": [],
   "source": [
    "Vec3 c = a.add(b);\n",
    "Vec3 d = c.add(a);"
   ]
  },
  {
   "cell_type": "code",
   "execution_count": 16,
   "metadata": {},
   "outputs": [
    {
     "name": "stdout",
     "output_type": "stream",
     "text": [
      "a: (2.0 2.0 0.0)\n",
      "b: (1.0 0.0 0.0)\n",
      "c: (2.0 2.0 0.0)\n",
      "d: (2.0 2.0 0.0)\n"
     ]
    }
   ],
   "source": [
    "System.out.println(\"a: \" + a);\n",
    "System.out.println(\"b: \" + b);\n",
    "System.out.println(\"c: \" + c);\n",
    "System.out.println(\"d: \" + d);"
   ]
  },
  {
   "cell_type": "code",
   "execution_count": null,
   "metadata": {},
   "outputs": [],
   "source": []
  }
 ],
 "metadata": {
  "kernelspec": {
   "display_name": "Java",
   "language": "java",
   "name": "java"
  },
  "language_info": {
   "codemirror_mode": "java",
   "file_extension": ".java",
   "mimetype": "text/x-java-source",
   "name": "Java",
   "pygments_lexer": "java",
   "version": "11.0.2+9-LTS"
  }
 },
 "nbformat": 4,
 "nbformat_minor": 2
}
