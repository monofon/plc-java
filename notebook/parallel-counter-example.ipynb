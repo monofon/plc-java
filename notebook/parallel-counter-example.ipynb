{
 "cells": [
  {
   "cell_type": "markdown",
   "metadata": {},
   "source": [
    "# A counter class\n",
    "A counter manages a mutable variable that is incremented with each call to the counting method. The implementation is deceptively simple."
   ]
  },
  {
   "cell_type": "code",
   "execution_count": 1,
   "metadata": {},
   "outputs": [],
   "source": [
    "public class Counter {\n",
    "    public int count = 0;\n",
    "    \n",
    "    public void count() {\n",
    "        count += 1;\n",
    "    }\n",
    "}"
   ]
  },
  {
   "cell_type": "markdown",
   "metadata": {},
   "source": [
    "Now instantiate a new `Counter` object and invoke method `count()` $N$ times. What is the expected result?"
   ]
  },
  {
   "cell_type": "code",
   "execution_count": 2,
   "metadata": {},
   "outputs": [
    {
     "data": {
      "text/plain": [
       "10000"
      ]
     },
     "execution_count": 2,
     "metadata": {},
     "output_type": "execute_result"
    }
   ],
   "source": [
    "final int N = 10000;\n",
    "Counter counter = new Counter();\n",
    "\n",
    "for (int i = 0; i != N; i++)\n",
    "    counter.count();\n",
    "    \n",
    "counter.count;"
   ]
  },
  {
   "cell_type": "markdown",
   "metadata": {},
   "source": [
    "Invoke `count()` $N \\times N$ times in two nested loops. What is the expected result? "
   ]
  },
  {
   "cell_type": "code",
   "execution_count": 3,
   "metadata": {
    "scrolled": true
   },
   "outputs": [
    {
     "data": {
      "text/plain": [
       "100000000"
      ]
     },
     "execution_count": 3,
     "metadata": {},
     "output_type": "execute_result"
    }
   ],
   "source": [
    "Counter counter = new Counter();\n",
    "\n",
    "for (int t = 0; t != N; t++)\n",
    "    for (int i = 0; i != N; i++)\n",
    "        counter.count();\n",
    "        \n",
    "counter.count;"
   ]
  },
  {
   "cell_type": "markdown",
   "metadata": {},
   "source": [
    "## Concurrent counting\n",
    "\n",
    "Assume there should be N concurrent threads that each call count N times. What is the canonical way to implement that in Java?"
   ]
  },
  {
   "cell_type": "code",
   "execution_count": 4,
   "metadata": {},
   "outputs": [],
   "source": [
    "Counter counter = new Counter();\n",
    "Thread[] thread = new Thread[N];\n",
    "\n",
    "for (int t = 0; t != N; t++)\n",
    "    thread[t] = new Thread() {\n",
    "        public void run() {\n",
    "        for (int i = 0; i != N; i++)\n",
    "            counter.count();\n",
    "        };\n",
    "    };\n",
    "    \n",
    "for (int t = 0; t != N; t++)\n",
    "    thread[t].start();\n",
    "\n",
    "for (int t = 0; t != N; t++)\n",
    "    thread[t].join();"
   ]
  },
  {
   "cell_type": "markdown",
   "metadata": {},
   "source": [
    "The implementation above uses an [*anonymous inner class*](https://en.wikipedia.org/wiki/Inner_class#Types_of_nested_classes_in_Java) to implement the `Runnable` instance. Since Java 8 there is an even more concise way to generate a `Runnable` using lambda expressions."
   ]
  },
  {
   "cell_type": "code",
   "execution_count": 5,
   "metadata": {},
   "outputs": [],
   "source": [
    "Counter counter = new Counter();\n",
    "Thread[] thread = new Thread[N];\n",
    "\n",
    "for (int t = 0; t != N; t++)\n",
    "    thread[t] = new Thread(() -> {\n",
    "        for (int i = 0; i != N; i++)\n",
    "            counter.count();\n",
    "    });\n",
    "\n",
    "for (int t = 0; t != N; t++)\n",
    "    thread[t].start();\n",
    "\n",
    "for (int t = 0; t != N; t++)\n",
    "    thread[t].join();"
   ]
  },
  {
   "cell_type": "markdown",
   "metadata": {},
   "source": [
    "Now N threads are created and executed concurrently. Each thead calls `count()` N times. What is the expected result?"
   ]
  },
  {
   "cell_type": "code",
   "execution_count": 6,
   "metadata": {},
   "outputs": [
    {
     "data": {
      "text/plain": [
       "98918167"
      ]
     },
     "execution_count": 6,
     "metadata": {},
     "output_type": "execute_result"
    }
   ],
   "source": [
    "counter.count;"
   ]
  },
  {
   "cell_type": "code",
   "execution_count": 7,
   "metadata": {},
   "outputs": [
    {
     "data": {
      "text/plain": [
       "1081833"
      ]
     },
     "execution_count": 7,
     "metadata": {},
     "output_type": "execute_result"
    }
   ],
   "source": [
    "N*N - counter.count;"
   ]
  },
  {
   "cell_type": "markdown",
   "metadata": {},
   "source": [
    "The expected result is of course $N\\times N$. But the actual result is a few thousand counts short. \n",
    "- What is happening here? \n",
    "- How can that be prevented. "
   ]
  }
 ],
 "metadata": {
  "kernelspec": {
   "display_name": "Java",
   "language": "java",
   "name": "java"
  },
  "language_info": {
   "codemirror_mode": "java",
   "file_extension": ".java",
   "mimetype": "text/x-java-source",
   "name": "Java",
   "pygments_lexer": "java",
   "version": "11.0.2+9-LTS"
  }
 },
 "nbformat": 4,
 "nbformat_minor": 2
}
